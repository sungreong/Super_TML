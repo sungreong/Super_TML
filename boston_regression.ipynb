{
 "cells": [
  {
   "cell_type": "code",
   "execution_count": 1,
   "metadata": {},
   "outputs": [],
   "source": [
    "import torch.nn as nn\n",
    "from torchvision import models\n",
    "import numpy as np\n",
    "import sklearn.datasets as datasets\n",
    "from sklearn.model_selection import train_test_split\n",
    "import cv2\n",
    "import torch\n",
    "from torchvision import transforms\n",
    "from torch.utils.data import DataLoader, Dataset, TensorDataset\n",
    "from ex import *"
   ]
  },
  {
   "cell_type": "code",
   "execution_count": 2,
   "metadata": {},
   "outputs": [],
   "source": [
    "test_size = 0.3\n",
    "val_size = 0.3"
   ]
  },
  {
   "cell_type": "code",
   "execution_count": 3,
   "metadata": {},
   "outputs": [],
   "source": [
    "train = pd.read_excel(\"./../../../../Data/AirQuality/AirQualityUCI.xlsx\",sep=\";\")\n",
    "train.drop([\"Date\",\"Time\"],axis=1, inplace=True)\n",
    "train_y = train.pop(\"AH\").values.reshape(-1,1)"
   ]
  },
  {
   "cell_type": "code",
   "execution_count": 4,
   "metadata": {},
   "outputs": [],
   "source": [
    "from sklearn.preprocessing import PowerTransformer"
   ]
  },
  {
   "cell_type": "code",
   "execution_count": 5,
   "metadata": {},
   "outputs": [],
   "source": [
    "data = datasets.load_boston()\n",
    "target =PowerTransformer().fit_transform(data.target.reshape(-1,1))\n",
    "x_train, x_test, y_train, y_test \\\n",
    "        = train_test_split(data.data, target, test_size=test_size, random_state=1)"
   ]
  },
  {
   "cell_type": "code",
   "execution_count": 6,
   "metadata": {},
   "outputs": [
    {
     "data": {
      "image/png": "[encoded data removed]",
      "text/plain": [
       "<Figure size 432x288 with 1 Axes>"
      ]
     },
     "metadata": {
      "needs_background": "light"
     },
     "output_type": "display_data"
    }
   ],
   "source": [
    "import seaborn as sns\n",
    "sns.distplot(target)\n",
    "plt.show()"
   ]
  },
  {
   "cell_type": "code",
   "execution_count": 7,
   "metadata": {},
   "outputs": [],
   "source": [
    "x_train, x_val, y_train, y_val \\\n",
    "        = train_test_split(x_train, y_train, test_size=val_size, random_state=1)"
   ]
  },
  {
   "cell_type": "code",
   "execution_count": 8,
   "metadata": {},
   "outputs": [
    {
     "data": {
      "text/plain": [
       "(247, 13)"
      ]
     },
     "execution_count": 8,
     "metadata": {},
     "output_type": "execute_result"
    }
   ],
   "source": [
    "x_train.shape"
   ]
  },
  {
   "cell_type": "code",
   "execution_count": 9,
   "metadata": {},
   "outputs": [
    {
     "data": {
      "text/plain": [
       "array([[ 0.17637366],\n",
       "       [-0.73317589],\n",
       "       [ 2.33139899],\n",
       "       [-2.3267595 ],\n",
       "       [-3.04830272],\n",
       "       [-0.01834148],\n",
       "       [-1.13204625],\n",
       "       [-0.10216483],\n",
       "       [ 1.03894488],\n",
       "       [ 0.00520128],\n",
       "       [-0.55920774],\n",
       "       [-0.30270166],\n",
       "       [ 0.40150331],\n",
       "       [-0.80875709],\n",
       "       [ 0.78203901],\n",
       "       [-0.94985467],\n",
       "       [ 0.13162719],\n",
       "       [-2.07619168],\n",
       "       [-0.15109548],\n",
       "       [ 0.75428897],\n",
       "       [ 0.98739419],\n",
       "       [ 1.95994428],\n",
       "       [ 0.07478887],\n",
       "       [ 1.32487038],\n",
       "       [-0.21336359],\n",
       "       [ 1.11481397],\n",
       "       [ 0.66960511],\n",
       "       [ 0.1874623 ],\n",
       "       [-0.73317589],\n",
       "       [-1.23645165],\n",
       "       [ 2.26012359],\n",
       "       [-1.5349968 ],\n",
       "       [ 1.10646819],\n",
       "       [-0.44856235],\n",
       "       [ 0.35982462],\n",
       "       [ 0.6312538 ],\n",
       "       [-0.2259689 ],\n",
       "       [-0.32871031],\n",
       "       [ 1.53748512],\n",
       "       [ 0.80955743],\n",
       "       [-0.06596477],\n",
       "       [ 0.42214193],\n",
       "       [-0.71828684],\n",
       "       [ 0.00520128],\n",
       "       [-1.01480064],\n",
       "       [-0.11432554],\n",
       "       [-0.17585282],\n",
       "       [-0.82410653],\n",
       "       [ 1.13144371],\n",
       "       [ 1.30916591],\n",
       "       [ 0.29627365],\n",
       "       [ 0.16524614],\n",
       "       [-1.0980635 ],\n",
       "       [-0.76317865],\n",
       "       [ 0.37029507],\n",
       "       [ 1.18901023],\n",
       "       [ 0.35982462],\n",
       "       [ 1.40997666],\n",
       "       [-0.03017952],\n",
       "       [ 1.08971423],\n",
       "       [-0.82410653],\n",
       "       [-0.07798485],\n",
       "       [-0.96595698],\n",
       "       [-0.2259689 ],\n",
       "       [ 1.03040807],\n",
       "       [-0.42151922],\n",
       "       [-0.43501079],\n",
       "       [-0.04206249],\n",
       "       [-0.006548  ],\n",
       "       [ 0.02856869],\n",
       "       [-0.01834148],\n",
       "       [ 0.09764712],\n",
       "       [ 0.09764712],\n",
       "       [ 0.16524614],\n",
       "       [-2.05236997],\n",
       "       [-2.1002246 ],\n",
       "       [-0.12653395],\n",
       "       [ 2.05013729],\n",
       "       [ 0.09764712],\n",
       "       [-2.43396639],\n",
       "       [ 2.33139899],\n",
       "       [ 0.40150331],\n",
       "       [-0.73317589],\n",
       "       [-0.16344946],\n",
       "       [ 0.16524614],\n",
       "       [-1.18377809],\n",
       "       [-0.32871031],\n",
       "       [ 0.22049783],\n",
       "       [ 0.1874623 ],\n",
       "       [ 0.25319389],\n",
       "       [ 0.90854365],\n",
       "       [-0.65946064],\n",
       "       [ 0.0862387 ],\n",
       "       [-2.30062111],\n",
       "       [-0.64493267],\n",
       "       [-1.61481452],\n",
       "       [-0.0900514 ],\n",
       "       [ 0.20952409],\n",
       "       [ 0.09764712],\n",
       "       [-0.06596477],\n",
       "       [ 0.90854365],\n",
       "       [-0.79348655],\n",
       "       [ 0.02856869],\n",
       "       [-0.27691119],\n",
       "       [ 0.5924468 ],\n",
       "       [ 0.34931991],\n",
       "       [-0.82410653]])"
      ]
     },
     "execution_count": 9,
     "metadata": {},
     "output_type": "execute_result"
    }
   ],
   "source": [
    "y_val"
   ]
  },
  {
   "cell_type": "code",
   "execution_count": 10,
   "metadata": {},
   "outputs": [],
   "source": [
    "device=\"cpu\"\n",
    "batch_size = 100\n",
    "kwargs = {} if device=='cpu' else {'num_workers': 2, 'pin_memory': True}\n",
    "loader_kwargs = {'batch_size':batch_size, **kwargs}"
   ]
  },
  {
   "cell_type": "code",
   "execution_count": 29,
   "metadata": {},
   "outputs": [],
   "source": [
    "transform = transforms.Compose([\n",
    "        transforms.ToTensor(),\n",
    "        transforms.Normalize(mean=[0.485, 0.456, 0.406],\n",
    "                            std=[0.229, 0.224, 0.225])\n",
    "    ])\n",
    "# Build Dataset\n",
    "train_data = CustomTensorDataset(data=(x_train, y_train), transform=transform,\n",
    "                                 dataset=\"boston\")\n",
    "val_data   = CustomTensorDataset(data=(x_val, y_val), transform=transform,\n",
    "                                 dataset=\"boston\")\n",
    "test_data  = CustomTensorDataset(data=(x_test, y_test), transform=transform,\n",
    "                                dataset=\"boston\")\n",
    "train_loader = DataLoader(train_data, shuffle=False, **loader_kwargs)\n",
    "val_loader   = DataLoader(val_data, shuffle=True, **loader_kwargs)\n",
    "test_loader  = DataLoader(test_data, shuffle=False, **loader_kwargs)"
   ]
  },
  {
   "cell_type": "code",
   "execution_count": 30,
   "metadata": {},
   "outputs": [],
   "source": [
    "x , y = next(iter(train_loader))"
   ]
  },
  {
   "cell_type": "code",
   "execution_count": null,
   "metadata": {},
   "outputs": [],
   "source": []
  },
  {
   "cell_type": "code",
   "execution_count": 31,
   "metadata": {},
   "outputs": [
    {
     "data": {
      "text/plain": [
       "<matplotlib.image.AxesImage at 0x7fde9c427198>"
      ]
     },
     "execution_count": 31,
     "metadata": {},
     "output_type": "execute_result"
    },
    {
     "data": {
      "image/png": "[encoded data removed]",
      "text/plain": [
       "<Figure size 432x288 with 1 Axes>"
      ]
     },
     "metadata": {
      "needs_background": "light"
     },
     "output_type": "display_data"
    }
   ],
   "source": [
    "plt.imshow(x[0,1,:])"
   ]
  },
  {
   "cell_type": "code",
   "execution_count": 32,
   "metadata": {},
   "outputs": [],
   "source": [
    "model = load_model(\"resnet18\",1)    "
   ]
  },
  {
   "cell_type": "code",
   "execution_count": 33,
   "metadata": {},
   "outputs": [],
   "source": [
    "opt='Adagrad'\n",
    "optimizer = opt_selection(model, opt)"
   ]
  },
  {
   "cell_type": "code",
   "execution_count": 34,
   "metadata": {},
   "outputs": [],
   "source": [
    "criterion = nn.MSELoss()"
   ]
  },
  {
   "cell_type": "code",
   "execution_count": 35,
   "metadata": {},
   "outputs": [],
   "source": [
    "best_train, best_val = np.inf, np.inf\n",
    "epochs = 1000"
   ]
  },
  {
   "cell_type": "code",
   "execution_count": null,
   "metadata": {},
   "outputs": [
    {
     "name": "stdout",
     "output_type": "stream",
     "text": [
      "train {'loss': 2.3158095391785563, 'metric': 0.02812724136654117}\n",
      "valid {'loss': 43.34424723353638, 'metric': 0.8101728454866612}\n",
      "train {'loss': 1.0554557544069176, 'metric': 0.012819300660812764}\n",
      "valid {'loss': 1.6281617060393412, 'metric': 0.030432929084847498}\n",
      "train {'loss': 0.6762684952178778, 'metric': 0.008213787391310257}\n",
      "valid {'loss': 1.3213671627461696, 'metric': 0.024698451640115318}\n",
      "train {'loss': 0.36013068296327483, 'metric': 0.004374056878096455}\n",
      "valid {'loss': 0.8179795352496939, 'metric': 0.015289337107470914}\n",
      "train {'loss': 0.25650309229394364, 'metric': 0.0031154221736106515}\n",
      "valid {'loss': 0.6273206592122911, 'metric': 0.01172561979836058}\n",
      "train {'loss': 0.18255923706169552, 'metric': 0.0022173186687655328}\n",
      "valid {'loss': 0.4651185897401894, 'metric': 0.008693805415704475}\n",
      "train {'loss': 0.13113977460732948, 'metric': 0.0015927907847044067}\n",
      "valid {'loss': 0.4838347159230128, 'metric': 0.009043639549962856}\n",
      "train {'loss': 0.0963463701199556, 'metric': 0.0011701988273678818}\n",
      "valid {'loss': 0.565287857133852, 'metric': 0.010566128170726205}\n",
      "train {'loss': 0.0746444449376564, 'metric': 0.0009066126915504826}\n",
      "valid {'loss': 0.5192128209214664, 'metric': 0.009704912540588157}\n",
      "train {'loss': 0.05716822438027608, 'metric': 0.0006943509034041629}\n",
      "valid {'loss': 1.0513991907804798, 'metric': 0.019652321322999624}\n",
      "train {'loss': 0.06517896207220096, 'metric': 0.0007916473126178253}\n",
      "valid {'loss': 0.5404836197633887, 'metric': 0.010102497565670816}\n",
      "train {'loss': 0.11722742642221862, 'metric': 0.0014238148958164204}\n",
      "valid {'loss': 0.83830761312442, 'metric': 0.015669301179895703}\n",
      "train {'loss': 0.06604620099732453, 'metric': 0.0008021805789148728}\n",
      "valid {'loss': 0.4817964400354485, 'metric': 0.009005540935242029}\n",
      "train {'loss': 0.06342391639955172, 'metric': 0.000770330968415608}\n",
      "valid {'loss': 0.6995162575017495, 'metric': 0.013075070233677561}\n",
      "train {'loss': 0.03633720095498239, 'metric': 0.00044134252172043395}\n",
      "valid {'loss': 0.8424282803359241, 'metric': 0.01574632299693316}\n",
      "train {'loss': 0.027676075377441423, 'metric': 0.0003361466645033371}\n",
      "valid {'loss': 0.6184195299008401, 'metric': 0.011559243549548414}\n",
      "train {'loss': 0.025802723757624792, 'metric': 0.00031339340596305416}\n",
      "valid {'loss': 0.6759517278631385, 'metric': 0.012634611735759598}\n",
      "train {'loss': 0.02155032310592805, 'metric': 0.0002617448150517577}\n",
      "valid {'loss': 0.34123025113163596, 'metric': 0.006378135535170765}\n",
      "train {'loss': 0.02017483617763294, 'metric': 0.0002450384960846106}\n",
      "valid {'loss': 0.5125017301146753, 'metric': 0.00957947159092851}\n",
      "train {'loss': 0.019237057241061215, 'metric': 0.00023364846851491353}\n",
      "valid {'loss': 0.27377096790836764, 'metric': 0.005117214353427432}\n",
      "train {'loss': 0.0174719449390132, 'metric': 0.00021220985755886475}\n",
      "valid {'loss': 0.3900977611850119, 'metric': 0.007291546938037605}\n",
      "train {'loss': 0.017114966508678057, 'metric': 0.00020787408714993593}\n",
      "valid {'loss': 0.28225859462423386, 'metric': 0.005275861581761381}\n",
      "train {'loss': 0.015850341712024405, 'metric': 0.00019251427180596445}\n",
      "valid {'loss': 0.28771730619758396, 'metric': 0.005377893573786616}\n",
      "train {'loss': 0.014929296606804083, 'metric': 0.0001813274891514666}\n",
      "valid {'loss': 0.26149943104646306, 'metric': 0.0048878398326441695}\n",
      "train {'loss': 0.01436827301662321, 'metric': 0.0001745134374488649}\n",
      "valid {'loss': 0.44932400759730706, 'metric': 0.008398579581258076}\n",
      "train {'loss': 0.013552299708063176, 'metric': 0.0001646028304623058}\n",
      "valid {'loss': 0.34994158026424804, 'metric': 0.006540964117088748}\n",
      "train {'loss': 0.01304879115517321, 'metric': 0.00015848734196566652}\n",
      "valid {'loss': 0.34522190560139276, 'metric': 0.006452745899091453}\n",
      "train {'loss': 0.012576201379747251, 'metric': 0.00015274738517911642}\n",
      "valid {'loss': 0.2103290585273423, 'metric': 0.0039313842715391085}\n",
      "train {'loss': 0.011927705414078804, 'metric': 0.00014487091596047133}\n",
      "valid {'loss': 0.4102379276362293, 'metric': 0.007667998647406155}\n",
      "train {'loss': 0.011665923800206554, 'metric': 0.00014169138218874357}\n",
      "valid {'loss': 0.21125556587540587, 'metric': 0.003948702165895436}\n",
      "train {'loss': 0.011013592757897638, 'metric': 0.00013376833309187416}\n",
      "valid {'loss': 0.25834231087545884, 'metric': 0.004828828240662782}\n",
      "train {'loss': 0.010601655939431872, 'metric': 0.00012876505189593365}\n",
      "valid {'loss': 0.4081092031318446, 'metric': 0.0076282094043335445}\n",
      "train {'loss': 0.010238326740027719, 'metric': 0.0001243521466400128}\n",
      "valid {'loss': 0.2963679272844465, 'metric': 0.005539587425877505}\n",
      "train {'loss': 0.009801651422049867, 'metric': 0.00011904839783866234}\n",
      "valid {'loss': 0.23192050281705012, 'metric': 0.004334962669477573}\n",
      "train {'loss': 0.00980582278428329, 'metric': 0.00011909906215728692}\n",
      "valid {'loss': 0.3212889023342669, 'metric': 0.006005400043631157}\n",
      "train {'loss': 0.009336331523062985, 'metric': 0.00011339673914651398}\n",
      "valid {'loss': 0.37649650856747663, 'metric': 0.007037317917149096}\n",
      "train {'loss': 0.009847126725530937, 'metric': 0.00011960072945988992}\n",
      "valid {'loss': 0.25467986818800276, 'metric': 0.004760371368000052}\n",
      "train {'loss': 0.009856030210358503, 'metric': 0.00011970886895172271}\n",
      "valid {'loss': 0.3233709980482218, 'metric': 0.00604431772052751}\n",
      "train {'loss': 0.010156673995445788, 'metric': 0.00012336041290015128}\n",
      "valid {'loss': 0.3294723646302127, 'metric': 0.0061583619557049095}\n",
      "train {'loss': 0.011365304301615475, 'metric': 0.00013804013321800173}\n",
      "valid {'loss': 0.3199800383425281, 'metric': 0.00598093529612202}\n",
      "train {'loss': 0.010927623614764355, 'metric': 0.00013272417345867638}\n",
      "valid {'loss': 0.19268411762710586, 'metric': 0.0036015722920954367}\n",
      "train {'loss': 0.0109781008968182, 'metric': 0.00013333725785609151}\n",
      "valid {'loss': 0.31997441040654695, 'metric': 0.005980830101056952}\n",
      "train {'loss': 0.010547759432263668, 'metric': 0.00012811043844854658}\n",
      "valid {'loss': 0.2518516675004401, 'metric': 0.004707507803746544}\n",
      "train {'loss': 0.00874480727829437, 'metric': 0.00010621223414932434}\n",
      "valid {'loss': 0.24821529349756255, 'metric': 0.004639538196216123}\n",
      "train {'loss': 0.008441087703895398, 'metric': 0.00010252333243597649}\n",
      "valid {'loss': 0.17739737598351665, 'metric': 0.003315838803430218}\n",
      "train {'loss': 0.0072547278510210365, 'metric': 8.81141034536968e-05}\n",
      "valid {'loss': 0.35495459453881284, 'metric': 0.006634665318482483}\n",
      "train {'loss': 0.0068544237346230665, 'metric': 8.325211013712226e-05}\n",
      "valid {'loss': 0.2870651973031626, 'metric': 0.00536570462248902}\n",
      "train {'loss': 0.006224235235291156, 'metric': 7.559799880920433e-05}\n",
      "valid {'loss': 0.5432788697621271, 'metric': 0.010154745229198637}\n",
      "train {'loss': 0.0060329591533808576, 'metric': 7.327480753094159e-05}\n",
      "valid {'loss': 0.365417257662932, 'metric': 0.00683022911519499}\n",
      "train {'loss': 0.005547078308313336, 'metric': 6.737342074874497e-05}\n",
      "valid {'loss': 0.3886248455075909, 'metric': 0.007264015803880204}\n",
      "train {'loss': 0.0054233451478642725, 'metric': 6.587058884045675e-05}\n",
      "valid {'loss': 0.3478649774045304, 'metric': 0.0065021491103650535}\n",
      "train {'loss': 0.005092902002489602, 'metric': 6.185710934197897e-05}\n",
      "valid {'loss': 0.2429990614421128, 'metric': 0.004542038531628277}\n",
      "train {'loss': 0.004992406718708239, 'metric': 6.063651885070735e-05}\n",
      "valid {'loss': 0.371910460298622, 'metric': 0.00695159738875929}\n",
      "train {'loss': 0.00475193573417543, 'metric': 5.771581863370968e-05}\n",
      "valid {'loss': 0.20427314708723093, 'metric': 0.0038181896651818866}\n",
      "train {'loss': 0.004702780850116223, 'metric': 5.711879575039948e-05}\n",
      "valid {'loss': 0.3530254409562768, 'metric': 0.006598606373014519}\n",
      "train {'loss': 0.004610598545761219, 'metric': 5.599917262058161e-05}\n",
      "valid {'loss': 0.3349007862891308, 'metric': 0.006259827781105248}\n",
      "train {'loss': 0.004683400449911952, 'metric': 5.6883406274234236e-05}\n",
      "valid {'loss': 0.4599091785689329, 'metric': 0.008596433244279118}\n",
      "train {'loss': 0.004774762048315173, 'metric': 5.7993061315568906e-05}\n",
      "valid {'loss': 0.3807970115250141, 'metric': 0.007117701150000264}\n",
      "train {'loss': 0.005341116803854341, 'metric': 6.487186401442519e-05}\n",
      "valid {'loss': 0.287623868314104, 'metric': 0.005376147071291664}\n",
      "train {'loss': 0.005975434871323221, 'metric': 7.257613204036301e-05}\n",
      "valid {'loss': 0.33796372050324053, 'metric': 0.0063170788879110375}\n"
     ]
    },
    {
     "name": "stdout",
     "output_type": "stream",
     "text": [
      "train {'loss': 0.006905667742103146, 'metric': 8.387450698910703e-05}\n",
      "valid {'loss': 0.37162334620330423, 'metric': 0.006946230770155219}\n",
      "train {'loss': 0.008357546280664282, 'metric': 0.00010150865927932326}\n",
      "valid {'loss': 0.46768543920205885, 'metric': 0.008741783910318856}\n",
      "train {'loss': 0.008648659862351733, 'metric': 0.00010504445176945424}\n",
      "valid {'loss': 0.46013767591554067, 'metric': 0.008600704222720386}\n",
      "train {'loss': 0.009116304374620118, 'metric': 0.00011072434463101358}\n",
      "valid {'loss': 0.21462342012915417, 'metric': 0.00401165271269447}\n",
      "train {'loss': 0.00847635896521805, 'metric': 0.00010295172832248642}\n",
      "valid {'loss': 0.44422256295383034, 'metric': 0.00830322547577253}\n",
      "train {'loss': 0.007163173266132753, 'metric': 8.700210444695651e-05}\n",
      "valid {'loss': 0.2691845584352744, 'metric': 0.005031487073556531}\n",
      "train {'loss': 0.006298056058702344, 'metric': 7.649460800043333e-05}\n",
      "valid {'loss': 0.4386431847286067, 'metric': 0.008198938032310405}\n",
      "train {'loss': 0.005185918428796341, 'metric': 6.298686350764787e-05}\n",
      "valid {'loss': 0.2499291697734222, 'metric': 0.0046715732667929385}\n",
      "train {'loss': 0.004299755084980692, 'metric': 5.222374597142542e-05}\n",
      "valid {'loss': 0.3020470096391755, 'metric': 0.005645738497928514}\n",
      "train {'loss': 0.003877574141370578, 'metric': 4.7096042202881514e-05}\n",
      "valid {'loss': 0.2009879927757205, 'metric': 0.0037567849116957102}\n",
      "train {'loss': 0.0033299076077088086, 'metric': 4.044422195597743e-05}\n",
      "valid {'loss': 0.2989162951835117, 'metric': 0.0055872204707198446}\n",
      "train {'loss': 0.003013770489162655, 'metric': 3.6604499868372325e-05}\n",
      "valid {'loss': 0.26634952974824877, 'metric': 0.004978495883144837}\n",
      "train {'loss': 0.0028246533496527637, 'metric': 3.430753056258418e-05}\n",
      "valid {'loss': 0.2264994390244035, 'metric': 0.004233634374287916}\n",
      "train {'loss': 0.002530700129229154, 'metric': 3.073724853314762e-05}\n",
      "valid {'loss': 0.3766651950683145, 'metric': 0.007040470935856346}\n",
      "train {'loss': 0.00244428129538209, 'metric': 2.9687627069418095e-05}\n",
      "valid {'loss': 0.6068566937313274, 'metric': 0.011343115770679018}\n",
      "train {'loss': 0.0022538132384066277, 'metric': 2.7374249859189812e-05}\n",
      "valid {'loss': 0.20528959237247743, 'metric': 0.0038371886424762138}\n",
      "train {'loss': 0.002165609067503231, 'metric': 2.6302944139715356e-05}\n",
      "valid {'loss': 0.2404585351775678, 'metric': 0.004494552059393791}\n",
      "train {'loss': 0.0020194387343785186, 'metric': 2.4527595964111564e-05}\n",
      "valid {'loss': 0.35070054624164493, 'metric': 0.006555150397040092}\n",
      "train {'loss': 0.0019743042073833866, 'metric': 2.3979403328543156e-05}\n",
      "valid {'loss': 0.19565527034974423, 'metric': 0.003657107857004565}\n",
      "train {'loss': 0.0018205957949887013, 'metric': 2.2112499534275724e-05}\n",
      "valid {'loss': 0.2593409055097276, 'metric': 0.004847493560929488}\n",
      "train {'loss': 0.0018099040972403147, 'metric': 2.1982640857169815e-05}\n",
      "valid {'loss': 0.2209881554070321, 'metric': 0.0041306197272342445}\n",
      "train {'loss': 0.0016691196295245453, 'metric': 2.0272708050905408e-05}\n",
      "valid {'loss': 0.5453286480712686, 'metric': 0.010193058842453619}\n",
      "train {'loss': 0.001664832317084253, 'metric': 2.0220635430173112e-05}\n",
      "valid {'loss': 0.442267607259373, 'metric': 0.008266684247838748}\n",
      "train {'loss': 0.0015429812480647733, 'metric': 1.874066293196081e-05}\n",
      "valid {'loss': 0.3879143197121576, 'metric': 0.007250734947890796}\n",
      "train {'loss': 0.0015480031936586033, 'metric': 1.880165822257413e-05}\n",
      "valid {'loss': 0.37011808896579135, 'metric': 0.006918095120855913}\n",
      "train {'loss': 0.0014331285220266137, 'metric': 1.7406419295869803e-05}\n",
      "valid {'loss': 0.30973123579509027, 'metric': 0.005789368893366173}\n",
      "train {'loss': 0.0014515167115448076, 'metric': 1.762975763009888e-05}\n",
      "valid {'loss': 0.4420466445370834, 'metric': 0.008262554103496886}\n",
      "train {'loss': 0.001344163027277379, 'metric': 1.632586672806533e-05}\n",
      "valid {'loss': 0.3657601667111346, 'metric': 0.006836638630114665}\n",
      "train {'loss': 0.0013694120649835131, 'metric': 1.6632535202228906e-05}\n",
      "valid {'loss': 0.25346297763376263, 'metric': 0.0047376257501637875}\n",
      "train {'loss': 0.0012685505015820316, 'metric': 1.5407495970631962e-05}\n",
      "valid {'loss': 0.2992500593954457, 'metric': 0.00559345905412048}\n",
      "train {'loss': 0.0013033873015088503, 'metric': 1.58306149980832e-05}\n",
      "valid {'loss': 0.26382657687729855, 'metric': 0.004931337885556982}\n",
      "train {'loss': 0.0011997686148205993, 'metric': 1.457208843911659e-05}\n",
      "valid {'loss': 0.2701622633312516, 'metric': 0.005049761931425263}\n",
      "train {'loss': 0.0012406763647287522, 'metric': 1.5068943701158935e-05}\n",
      "valid {'loss': 0.2952242618582439, 'metric': 0.005518210502023251}\n",
      "train {'loss': 0.0011431169504439963, 'metric': 1.3884011543854207e-05}\n",
      "valid {'loss': 0.38957667352040404, 'metric': 0.0072818069816897955}\n",
      "train {'loss': 0.0011698434621485693, 'metric': 1.4208625046338897e-05}\n",
      "valid {'loss': 0.2056745635650552, 'metric': 0.0038443843657019663}\n",
      "train {'loss': 0.0010882628602322385, 'metric': 1.3217767533185084e-05}\n",
      "valid {'loss': 0.3973685588693996, 'metric': 0.007427449698493451}\n",
      "train {'loss': 0.0011137059734587132, 'metric': 1.3526793199903397e-05}\n",
      "valid {'loss': 0.2720764846430569, 'metric': 0.005085541769029101}\n",
      "train {'loss': 0.0010259537584910172, 'metric': 1.2460976823777537e-05}\n",
      "valid {'loss': 0.3268372022440167, 'metric': 0.006109106584000312}\n",
      "train {'loss': 0.0010593270745063385, 'metric': 1.2866320742991964e-05}\n",
      "valid {'loss': 0.40566997248895226, 'metric': 0.007582616308204715}\n",
      "train {'loss': 0.0009701745106754848, 'metric': 1.1783496081078763e-05}\n",
      "valid {'loss': 0.2898837388401813, 'metric': 0.005418387641872548}\n",
      "train {'loss': 0.000995207864320301, 'metric': 1.2087544910772886e-05}\n",
      "valid {'loss': 0.3465270591553855, 'metric': 0.006477141292624028}\n",
      "train {'loss': 0.0009301294438904678, 'metric': 1.1297118751706087e-05}\n",
      "valid {'loss': 0.23216655539544911, 'metric': 0.004339561783092507}\n",
      "train {'loss': 0.0009375906310853875, 'metric': 1.1387740458526973e-05}\n",
      "valid {'loss': 0.3994265737829846, 'metric': 0.007465917266971675}\n",
      "train {'loss': 0.0008941594937946682, 'metric': 1.086023676673686e-05}\n",
      "valid {'loss': 0.22818702518309858, 'metric': 0.004265178040805581}\n",
      "train {'loss': 0.0009053474757799842, 'metric': 1.0996123187611144e-05}\n",
      "valid {'loss': 0.2361620757326544, 'metric': 0.004414244406217839}\n",
      "train {'loss': 0.0008692376071854263, 'metric': 1.0557541787677243e-05}\n",
      "valid {'loss': 0.25512324426367533, 'metric': 0.004768658771283651}\n",
      "train {'loss': 0.0008918371105153342, 'metric': 1.083202968237248e-05}\n",
      "valid {'loss': 0.4954560561471141, 'metric': 0.00926086086256288}\n",
      "train {'loss': 0.0008830420502651841, 'metric': 1.0725207088241102e-05}\n",
      "valid {'loss': 0.3365909875827413, 'metric': 0.0062914203286493706}\n",
      "train {'loss': 0.0009124494673385097, 'metric': 1.1082382194394854e-05}\n",
      "valid {'loss': 0.25774557416792054, 'metric': 0.004817674283512534}\n",
      "train {'loss': 0.0009488311254248695, 'metric': 1.152426468127372e-05}\n",
      "valid {'loss': 0.21995037013559932, 'metric': 0.004111221871693445}\n",
      "train {'loss': 0.000985022330238539, 'metric': 1.1963833970508573e-05}\n",
      "valid {'loss': 0.23199686914360937, 'metric': 0.004336390077450642}\n",
      "train {'loss': 0.001067125390807635, 'metric': 1.2961037135315407e-05}\n",
      "valid {'loss': 0.2606867098568293, 'metric': 0.004872648782370641}\n",
      "train {'loss': 0.0011205667311787073, 'metric': 1.361012224103693e-05}\n",
      "valid {'loss': 0.23281163717036873, 'metric': 0.004351619386362033}\n",
      "train {'loss': 0.001234370628642501, 'metric': 1.499235581347167e-05}\n",
      "valid {'loss': 0.28948561920181953, 'metric': 0.005410946153305038}\n",
      "train {'loss': 0.0012864910011423712, 'metric': 1.5625396775008557e-05}\n",
      "valid {'loss': 0.23913227513998925, 'metric': 0.004469762152149332}\n",
      "train {'loss': 0.0013959591399662701, 'metric': 1.6954969311331217e-05}\n",
      "valid {'loss': 0.25760031544749146, 'metric': 0.004814959167242831}\n",
      "train {'loss': 0.0014176021119154958, 'metric': 1.7217839415977684e-05}\n",
      "valid {'loss': 0.33061402180619004, 'metric': 0.006179701342171776}\n",
      "train {'loss': 0.001507112693608155, 'metric': 1.8305012472973543e-05}\n",
      "valid {'loss': 0.41599692687955575, 'metric': 0.007775643493075808}\n",
      "train {'loss': 0.0014558658477868169, 'metric': 1.7682581147208303e-05}\n",
      "valid {'loss': 0.2415285983044194, 'metric': 0.004514553239334942}\n",
      "train {'loss': 0.001492390193433108, 'metric': 1.8126196681373782e-05}\n",
      "valid {'loss': 0.22753897867578662, 'metric': 0.0042530650219773205}\n"
     ]
    },
    {
     "name": "stdout",
     "output_type": "stream",
     "text": [
      "train {'loss': 0.0013766240407903144, 'metric': 1.672013005008479e-05}\n",
      "valid {'loss': 0.31459491362325653, 'metric': 0.005880278759313206}\n",
      "train {'loss': 0.0013441050994458033, 'metric': 1.6325163151163603e-05}\n",
      "valid {'loss': 0.29195468478532055, 'metric': 0.005457096911875151}\n",
      "train {'loss': 0.0011994047765229471, 'metric': 1.456766935048114e-05}\n",
      "valid {'loss': 0.28918240542282453, 'metric': 0.0054052786060341034}\n",
      "train {'loss': 0.0011314201880724408, 'metric': 1.3741945604118714e-05}\n",
      "valid {'loss': 0.2298530146422743, 'metric': 0.004296318030696716}\n",
      "train {'loss': 0.0009797487882055114, 'metric': 1.1899782852698518e-05}\n",
      "valid {'loss': 0.19020931281857875, 'metric': 0.0035553142582911918}\n",
      "train {'loss': 0.000909388615777475, 'metric': 1.1045205859645445e-05}\n",
      "valid {'loss': 0.21681468360333955, 'metric': 0.0040526109084736365}\n",
      "train {'loss': 0.0007611267949257469, 'metric': 9.24445499909814e-06}\n",
      "valid {'loss': 0.4082051709235335, 'metric': 0.007630003194832402}\n",
      "train {'loss': 0.0007013697902686998, 'metric': 8.51866142026761e-06}\n",
      "valid {'loss': 0.21931611626257008, 'metric': 0.004099366659113459}\n",
      "train {'loss': 0.0005778506730724017, 'metric': 7.018429227600021e-06}\n",
      "valid {'loss': 0.32091338416565346, 'metric': 0.005998381012442121}\n",
      "train {'loss': 0.0005295293955102888, 'metric': 6.431531119558164e-06}\n",
      "valid {'loss': 0.2773930839826779, 'metric': 0.005184917457620148}\n",
      "train {'loss': 0.00043500552952091586, 'metric': 5.283467969889666e-06}\n",
      "valid {'loss': 0.23660953011594196, 'metric': 0.004422608039550317}\n",
      "train {'loss': 0.0003971019129681704, 'metric': 4.823100157508142e-06}\n",
      "valid {'loss': 0.21143902347472876, 'metric': 0.003952131279901472}\n",
      "train {'loss': 0.0003289911023353401, 'metric': 3.995843348202511e-06}\n",
      "valid {'loss': 0.20785710963699397, 'metric': 0.0038851796193830647}\n",
      "train {'loss': 0.0003056559430780806, 'metric': 3.712420361272234e-06}\n",
      "valid {'loss': 0.23457464577376413, 'metric': 0.004384572818201198}\n",
      "train {'loss': 0.0002535384064512942, 'metric': 3.0794138435379867e-06}\n",
      "valid {'loss': 0.47106613440259326, 'metric': 0.008804974474814826}\n",
      "train {'loss': 0.00024245572846305467, 'metric': 2.9448064185796115e-06}\n",
      "valid {'loss': 0.3238926450855354, 'metric': 0.006054068132439914}\n",
      "train {'loss': 0.00020633645577083307, 'metric': 2.506110798836029e-06}\n",
      "valid {'loss': 0.3503734354633187, 'metric': 0.006549036176884462}\n",
      "train {'loss': 0.00019976474355260483, 'metric': 2.426292431813014e-06}\n",
      "valid {'loss': 0.40039492550316846, 'metric': 0.007484017299124644}\n",
      "train {'loss': 0.00017659563593719178, 'metric': 2.144886266443625e-06}\n",
      "valid {'loss': 0.3235328435588634, 'metric': 0.006047342870259129}\n",
      "train {'loss': 0.00017406524816922654, 'metric': 2.114152811771982e-06}\n",
      "valid {'loss': 0.2199093504559985, 'metric': 0.004110455148710252}\n"
     ]
    }
   ],
   "source": [
    "import copy\n",
    "for epoch in range(1, epochs+1):\n",
    "    # Train and Validate\n",
    "    train_stats = train_step(model, criterion, optimizer, train_loader,\"regression\")\n",
    "    valid_stats = valid_step(model, criterion, val_loader,\"regression\")\n",
    "    print(\"train\", train_stats)\n",
    "    print(\"valid\", valid_stats)\n",
    "    # Keep best model\n",
    "    if valid_stats['metric'] < best_val or train_stats['metric']<=best_train :\n",
    "        best_train  = train_stats['metric']\n",
    "        best_val    = valid_stats['metric']\n",
    "        best_model_weights = copy.deepcopy(model.state_dict())\n",
    "\n",
    "# Load best model and evaluate on test set\n",
    "model.load_state_dict(best_model_weights)\n",
    "test_stats = valid_step(model, criterion, test_loader)\n",
    "print('\\nBests Model Accuracies: Train: {:4.2f} | Val: {:4.2f} | Test: {:4.2f}'.\\\n",
    "      format(best_train, \n",
    "             best_val, \n",
    "             test_stats['metric']))"
   ]
  },
  {
   "cell_type": "code",
   "execution_count": null,
   "metadata": {},
   "outputs": [],
   "source": []
  },
  {
   "cell_type": "code",
   "execution_count": 22,
   "metadata": {},
   "outputs": [
    {
     "data": {
      "text/plain": [
       "{'loss': 0.0, 'metric': 0.0045248558570619895}"
      ]
     },
     "execution_count": 22,
     "metadata": {},
     "output_type": "execute_result"
    }
   ],
   "source": [
    "test_stats"
   ]
  },
  {
   "cell_type": "code",
   "execution_count": null,
   "metadata": {},
   "outputs": [],
   "source": []
  }
 ],
 "metadata": {
  "kernelspec": {
   "display_name": "Python 3",
   "language": "python",
   "name": "python3"
  }
 },
 "nbformat": 4,
 "nbformat_minor": 2
}
