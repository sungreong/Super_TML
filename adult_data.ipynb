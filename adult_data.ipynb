{
 "cells": [
  {
   "cell_type": "code",
   "execution_count": 1,
   "metadata": {},
   "outputs": [],
   "source": [
    "import torch.nn as nn\n",
    "from torchvision import models\n",
    "import numpy as np\n",
    "import sklearn.datasets as datasets\n",
    "from sklearn.model_selection import train_test_split\n",
    "import cv2\n",
    "import torch\n",
    "from torchvision import transforms\n",
    "from torch.utils.data import DataLoader, Dataset, TensorDataset\n",
    "from ex import *"
   ]
  },
  {
   "cell_type": "code",
   "execution_count": 2,
   "metadata": {},
   "outputs": [],
   "source": [
    "test_size = 0.3\n",
    "val_size = 0.3"
   ]
  },
  {
   "cell_type": "code",
   "execution_count": 3,
   "metadata": {},
   "outputs": [],
   "source": [
    "train = pd.read_csv(\"./../../../../Data/Adult/adult.csv\")"
   ]
  },
  {
   "cell_type": "code",
   "execution_count": 4,
   "metadata": {},
   "outputs": [],
   "source": [
    "train = train.replace({\"salary\" : {' <=50K' : 0, ' >50K' : 1}})"
   ]
  },
  {
   "cell_type": "code",
   "execution_count": 5,
   "metadata": {},
   "outputs": [],
   "source": [
    "train_y = train.pop(\"salary\").values"
   ]
  },
  {
   "cell_type": "code",
   "execution_count": 6,
   "metadata": {},
   "outputs": [],
   "source": [
    "from sklearn.preprocessing import LabelEncoder"
   ]
  },
  {
   "cell_type": "code",
   "execution_count": 7,
   "metadata": {},
   "outputs": [],
   "source": [
    "cat_col = train.select_dtypes(\"object\").columns.tolist()\n",
    "for col in cat_col :\n",
    "    train[col] = LabelEncoder().fit_transform(train[col])"
   ]
  },
  {
   "cell_type": "code",
   "execution_count": 8,
   "metadata": {},
   "outputs": [],
   "source": [
    "train_x = train.values"
   ]
  },
  {
   "cell_type": "code",
   "execution_count": 9,
   "metadata": {},
   "outputs": [],
   "source": [
    "test_size = 0.3\n",
    "val_size = 0.3"
   ]
  },
  {
   "cell_type": "code",
   "execution_count": 10,
   "metadata": {},
   "outputs": [],
   "source": [
    "x_train, x_test, y_train, y_test \\\n",
    "        = train_test_split(train_x,train_y, test_size=test_size, random_state=1)\n",
    "x_train, x_val, y_train, y_val \\\n",
    "        = train_test_split(x_train, y_train, test_size=val_size, random_state=1)"
   ]
  },
  {
   "cell_type": "code",
   "execution_count": 11,
   "metadata": {},
   "outputs": [
    {
     "data": {
      "text/plain": [
       "((15954, 14), (6838, 14), (9769, 14))"
      ]
     },
     "execution_count": 11,
     "metadata": {},
     "output_type": "execute_result"
    }
   ],
   "source": [
    "x_train.shape , x_val.shape , x_test.shape"
   ]
  },
  {
   "cell_type": "code",
   "execution_count": 12,
   "metadata": {},
   "outputs": [],
   "source": [
    "device=\"cpu\"\n",
    "batch_size = 200\n",
    "kwargs = {} if device=='cpu' else {'num_workers': 2, 'pin_memory': True}\n",
    "loader_kwargs = {'batch_size':batch_size, **kwargs}"
   ]
  },
  {
   "cell_type": "code",
   "execution_count": 13,
   "metadata": {},
   "outputs": [],
   "source": [
    "transform = transforms.Compose([\n",
    "        transforms.ToTensor(),\n",
    "        transforms.Normalize(mean=[0.485, 0.456, 0.406],\n",
    "                            std=[0.229, 0.224, 0.225])\n",
    "    ])"
   ]
  },
  {
   "cell_type": "code",
   "execution_count": 27,
   "metadata": {},
   "outputs": [],
   "source": [
    "# Build Dataset\n",
    "train_data = CustomTensorDataset(data=(x_train, y_train), transform=transform,\n",
    "                                 dataset=\"adult\",n_columns=2)\n",
    "val_data   = CustomTensorDataset(data=(x_val, y_val), transform=transform,\n",
    "                                 dataset=\"adult\",n_columns=2)\n",
    "test_data  = CustomTensorDataset(data=(x_test, y_test), transform=transform,\n",
    "                                dataset=\"adult\",n_columns=2)\n",
    "train_loader = DataLoader(train_data, shuffle=False, **loader_kwargs)\n",
    "val_loader   = DataLoader(val_data, shuffle=True, **loader_kwargs)\n",
    "test_loader  = DataLoader(test_data, shuffle=False, **loader_kwargs)"
   ]
  },
  {
   "cell_type": "code",
   "execution_count": 28,
   "metadata": {},
   "outputs": [],
   "source": [
    "x , y = next(iter(train_loader))"
   ]
  },
  {
   "cell_type": "code",
   "execution_count": 29,
   "metadata": {},
   "outputs": [
    {
     "data": {
      "text/plain": [
       "<matplotlib.image.AxesImage at 0x7fe26ab63d30>"
      ]
     },
     "execution_count": 29,
     "metadata": {},
     "output_type": "execute_result"
    },
    {
     "data": {
      "image/png": "[encoded data removed]",
      "text/plain": [
       "<Figure size 432x288 with 1 Axes>"
      ]
     },
     "metadata": {
      "needs_background": "light"
     },
     "output_type": "display_data"
    }
   ],
   "source": [
    "plt.imshow(x[0,1,:])"
   ]
  },
  {
   "cell_type": "code",
   "execution_count": 30,
   "metadata": {},
   "outputs": [
    {
     "data": {
      "text/plain": [
       "array([   31,     4, 53042,    15,    10,     2,     7,     0,     2,\n",
       "           1,     0,     0,    40,    38])"
      ]
     },
     "execution_count": 30,
     "metadata": {},
     "output_type": "execute_result"
    }
   ],
   "source": [
    "x_train[0,:]"
   ]
  },
  {
   "cell_type": "code",
   "execution_count": 31,
   "metadata": {},
   "outputs": [],
   "source": [
    "model = load_model(\"resnet18\",2)    "
   ]
  },
  {
   "cell_type": "code",
   "execution_count": 32,
   "metadata": {},
   "outputs": [],
   "source": [
    "opt='Adagrad'"
   ]
  },
  {
   "cell_type": "code",
   "execution_count": 33,
   "metadata": {},
   "outputs": [],
   "source": [
    "optimizer = opt_selection(model, opt)"
   ]
  },
  {
   "cell_type": "code",
   "execution_count": 34,
   "metadata": {},
   "outputs": [],
   "source": [
    "criterion = nn.CrossEntropyLoss()"
   ]
  },
  {
   "cell_type": "code",
   "execution_count": 35,
   "metadata": {},
   "outputs": [],
   "source": [
    "best_train, best_val = 0.0, 0.0\n",
    "epochs = 100"
   ]
  },
  {
   "cell_type": "code",
   "execution_count": null,
   "metadata": {},
   "outputs": [
    {
     "name": "stdout",
     "output_type": "stream",
     "text": [
      "train {'loss': 0.34677042737603186, 'metric': 0.8394133132756676}\n",
      "valid {'loss': 169.17142857142858, 'metric': 0.8658964609534952}\n"
     ]
    }
   ],
   "source": [
    "import copy\n",
    "for epoch in range(1, epochs+1):\n",
    "    # Train and Validate\n",
    "    train_stats = train_step(model, criterion, optimizer, train_loader,\"classification\")\n",
    "    valid_stats = valid_step(model, criterion, val_loader,\"classification\")\n",
    "    print(\"train\", train_stats)\n",
    "    print(\"valid\", valid_stats)\n",
    "    # Keep best model\n",
    "    if valid_stats['metric'] > best_val or (valid_stats['metric']==best_val and train_stats['accuracy']>=best_train):\n",
    "        best_train  = train_stats['metric']\n",
    "        best_val    = valid_stats['metric']\n",
    "        best_model_weights = copy.deepcopy(model.state_dict())\n",
    "\n",
    "# Load best model and evaluate on test set\n",
    "model.load_state_dict(best_model_weights)\n",
    "test_stats = valid_step(model, criterion, test_loader)\n",
    "print('\\nBests Model Accuracies: Train: {:4.2f} | Val: {:4.2f} | Test: {:4.2f}'.format(best_train, best_val, test_stats['accuracy']))"
   ]
  },
  {
   "cell_type": "code",
   "execution_count": null,
   "metadata": {},
   "outputs": [],
   "source": []
  },
  {
   "cell_type": "code",
   "execution_count": null,
   "metadata": {},
   "outputs": [],
   "source": []
  },
  {
   "cell_type": "code",
   "execution_count": null,
   "metadata": {},
   "outputs": [],
   "source": []
  }
 ],
 "metadata": {
  "kernelspec": {
   "display_name": "PyTorch",
   "language": "python",
   "name": "pytorch"
  }
 },
 "nbformat": 4,
 "nbformat_minor": 2
}
